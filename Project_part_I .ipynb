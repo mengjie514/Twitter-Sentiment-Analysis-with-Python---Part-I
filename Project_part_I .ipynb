{
 "cells": [
  {
   "cell_type": "markdown",
   "metadata": {},
   "source": [
    "# Project Part 1: Data Preparation \n",
    "\n",
    "For the twitter sentiment analysis, I have used the dataset of tweets collected from the sports event of the 2018 UEFA Champions League final match at 26 May 2018, Real Madrid vs Liverpool. \n",
    "\n",
    "The data was collected over four weeks since from 21 May and end at 16 June 2018 at pre-, mid- and post-event.   \n",
    "\n",
    "The description of the dataset can be found as follows. \n",
    "\n",
    "- created_at: UTC time when this Tweet was created\n",
    "- name: The name of the user who posted this tweet. See User data diction attributes\n",
    "- screen_name: The screen name of the user who posted this tweet. It can be either same or different from user's name \n",
    "- id: The id of the user who posted this tweet\n",
    "- friends: The number of users this account is following\n",
    "- followers: The number of followers this account currently has\n",
    "- listed: The number of public lists that this user has posted\n",
    "- text: Contain a truncated version of the Tweet text, followed by an ellipsis character, a space, and a shortened self-permalink URL. The total length of this text value shall not exceed 140 characters\n",
    "- full_text: Contains the full, untruncated Tweet text\n",
    "- ideo_score: Created as empty obejects for the further analysis of ideology preference. "
   ]
  },
  {
   "cell_type": "markdown",
   "metadata": {},
   "source": [
    "# First Look at the data"
   ]
  },
  {
   "cell_type": "code",
   "execution_count": 2,
   "metadata": {},
   "outputs": [],
   "source": [
    "import json\n",
    "import twitter\n",
    "from twitter import *\n",
    "import os\n",
    "\n",
    "import pandas as pd\n",
    "import numpy as np\n",
    "os.chdir('')"
   ]
  },
  {
   "cell_type": "code",
   "execution_count": 52,
   "metadata": {},
   "outputs": [
    {
     "name": "stdout",
     "output_type": "stream",
     "text": [
      "<class 'pandas.core.frame.DataFrame'>\n",
      "Int64Index: 7101 entries, 0 to 7100\n",
      "Data columns (total 35 columns):\n",
      "contributors                 0 non-null object\n",
      "coordinates                  3 non-null object\n",
      "created_at                   7101 non-null object\n",
      "display_text_range           5915 non-null object\n",
      "entities                     7101 non-null object\n",
      "extended_entities            521 non-null object\n",
      "extended_tweet               2159 non-null object\n",
      "favorite_count               7101 non-null int64\n",
      "favorited                    7101 non-null bool\n",
      "filter_level                 7101 non-null object\n",
      "geo                          3 non-null object\n",
      "id                           7101 non-null int64\n",
      "id_str                       7101 non-null object\n",
      "in_reply_to_screen_name      4554 non-null object\n",
      "in_reply_to_status_id        4161 non-null float64\n",
      "in_reply_to_status_id_str    4161 non-null object\n",
      "in_reply_to_user_id          4554 non-null float64\n",
      "in_reply_to_user_id_str      4554 non-null object\n",
      "is_quote_status              7101 non-null bool\n",
      "lang                         7101 non-null object\n",
      "place                        392 non-null object\n",
      "possibly_sensitive           2651 non-null object\n",
      "quote_count                  7101 non-null int64\n",
      "quoted_status                972 non-null object\n",
      "quoted_status_id             972 non-null float64\n",
      "quoted_status_id_str         972 non-null object\n",
      "quoted_status_permalink      483 non-null object\n",
      "reply_count                  7101 non-null int64\n",
      "retweet_count                7101 non-null int64\n",
      "retweeted                    7101 non-null bool\n",
      "source                       7101 non-null object\n",
      "text                         7101 non-null object\n",
      "timestamp_ms                 7101 non-null object\n",
      "truncated                    7101 non-null bool\n",
      "user                         7101 non-null object\n",
      "dtypes: bool(4), float64(3), int64(5), object(23)"
     ]
    }
   ],
   "source": [
    "data = []\n",
    "with open(\"madrid_pre.json\") as f:\n",
    "    # use 'marid_post_week3 as a test sample'\n",
    "    for line in f:\n",
    "        try:\n",
    "            tweet = json.loads(line)\n",
    "            if tweet['text'].find('RT @')!=-1:\n",
    "            # drop Retweeted tweet\n",
    "                continue\n",
    "            data.append(tweet)\n",
    "        except:\n",
    "            continue\n",
    "\n",
    "with open('nmadrid_pre.json','w') as fp:\n",
    "    json.dump(data,fp)\n",
    "\n",
    "tweets_data_path=('nmadrid_pre.json')\n",
    "tweets_data = []\n",
    "tweets_file = open(tweets_data_path,'r')\n",
    "tweets_data = json.load(tweets_file)\n",
    "type(tweets_data)\n",
    "\n",
    "# convert the json file to dataframe\n",
    "df = pd.DataFrame(tweets_data)\n",
    "df.info()"
   ]
  },
  {
   "cell_type": "markdown",
   "metadata": {},
   "source": [
    "I first started by dropping the columns that I don't need for the specific purpose of sentiment analysis. I only need certain elements i.e., user's profile, text, date, thus extract those elements and save to a new dataframe with 4051 length. "
   ]
  },
  {
   "cell_type": "code",
   "execution_count": 53,
   "metadata": {},
   "outputs": [
    {
     "data": {
      "text/html": [
       "<div style=\"max-height:1000px;max-width:1500px;overflow:auto;\">\n",
       "<table border=\"1\" class=\"dataframe\">\n",
       "  <thead>\n",
       "    <tr style=\"text-align: right;\">\n",
       "      <th></th>\n",
       "      <th>created_at</th>\n",
       "      <th>name</th>\n",
       "      <th>screen_name</th>\n",
       "      <th>id</th>\n",
       "      <th>friends</th>\n",
       "      <th>followers</th>\n",
       "      <th>listed</th>\n",
       "      <th>text</th>\n",
       "      <th>extended_tweet</th>\n",
       "      <th>ideo_score</th>\n",
       "    </tr>\n",
       "  </thead>\n",
       "  <tbody>\n",
       "    <tr>\n",
       "      <th>0</th>\n",
       "      <td> Mon May 21 00:48:53 +0000 2018</td>\n",
       "      <td>            mwa150</td>\n",
       "      <td>       MengjieW</td>\n",
       "      <td>         1630534146</td>\n",
       "      <td>  79</td>\n",
       "      <td>   16</td>\n",
       "      <td> 2</td>\n",
       "      <td>               @realmadridfra forwarding this sat!</td>\n",
       "      <td>                                               NaN</td>\n",
       "      <td> </td>\n",
       "    </tr>\n",
       "    <tr>\n",
       "      <th>1</th>\n",
       "      <td> Mon May 21 01:16:44 +0000 2018</td>\n",
       "      <td>       Yago Amaral</td>\n",
       "      <td>   yagoorocha11</td>\n",
       "      <td>         3253070183</td>\n",
       "      <td> 322</td>\n",
       "      <td>   66</td>\n",
       "      <td> 0</td>\n",
       "      <td> @luka7doncic I want a Doncic Real Madrid jerse...</td>\n",
       "      <td>                                               NaN</td>\n",
       "      <td> </td>\n",
       "    </tr>\n",
       "    <tr>\n",
       "      <th>2</th>\n",
       "      <td> Mon May 21 01:29:22 +0000 2018</td>\n",
       "      <td>          Patricia</td>\n",
       "      <td>  Patricia_gb11</td>\n",
       "      <td> 917424322943307776</td>\n",
       "      <td> 539</td>\n",
       "      <td>  263</td>\n",
       "      <td> 0</td>\n",
       "      <td> happy night my life i love you always my idol ...</td>\n",
       "      <td> {u'display_text_range': [0, 146], u'entities':...</td>\n",
       "      <td> </td>\n",
       "    </tr>\n",
       "    <tr>\n",
       "      <th>3</th>\n",
       "      <td> Mon May 21 01:44:58 +0000 2018</td>\n",
       "      <td> Binyamin Alsagoff</td>\n",
       "      <td> benalsagoff676</td>\n",
       "      <td>          325975611</td>\n",
       "      <td> 211</td>\n",
       "      <td>  221</td>\n",
       "      <td> 3</td>\n",
       "      <td> Countdown to @ChampionsLeague 2018 Final in Ky...</td>\n",
       "      <td>                                               NaN</td>\n",
       "      <td> </td>\n",
       "    </tr>\n",
       "    <tr>\n",
       "      <th>4</th>\n",
       "      <td> Mon May 21 01:56:23 +0000 2018</td>\n",
       "      <td>     NİCOLO MELLİH</td>\n",
       "      <td>   vamoslaramos</td>\n",
       "      <td> 925375657839878144</td>\n",
       "      <td> 299</td>\n",
       "      <td> 1006</td>\n",
       "      <td> 1</td>\n",
       "      <td>                  @Okechukwu1907 @realmadrid Lovee</td>\n",
       "      <td>                                               NaN</td>\n",
       "      <td> </td>\n",
       "    </tr>\n",
       "  </tbody>\n",
       "</table>\n",
       "</div>"
      ],
      "text/plain": [
       "                       created_at               name     screen_name  \\\n",
       "0  Mon May 21 00:48:53 +0000 2018             mwa150        MengjieW   \n",
       "1  Mon May 21 01:16:44 +0000 2018        Yago Amaral    yagoorocha11   \n",
       "2  Mon May 21 01:29:22 +0000 2018           Patricia   Patricia_gb11   \n",
       "3  Mon May 21 01:44:58 +0000 2018  Binyamin Alsagoff  benalsagoff676   \n",
       "4  Mon May 21 01:56:23 +0000 2018      NİCOLO MELLİH    vamoslaramos   \n",
       "\n",
       "                   id  friends  followers  listed  \\\n",
       "0          1630534146       79         16       2   \n",
       "1          3253070183      322         66       0   \n",
       "2  917424322943307776      539        263       0   \n",
       "3           325975611      211        221       3   \n",
       "4  925375657839878144      299       1006       1   \n",
       "\n",
       "                                                text  \\\n",
       "0                @realmadridfra forwarding this sat!   \n",
       "1  @luka7doncic I want a Doncic Real Madrid jerse...   \n",
       "2  happy night my life i love you always my idol ...   \n",
       "3  Countdown to @ChampionsLeague 2018 Final in Ky...   \n",
       "4                   @Okechukwu1907 @realmadrid Lovee   \n",
       "\n",
       "                                      extended_tweet ideo_score  \n",
       "0                                                NaN             \n",
       "1                                                NaN             \n",
       "2  {u'display_text_range': [0, 146], u'entities':...             \n",
       "3                                                NaN             \n",
       "4                                                NaN             "
      ]
     },
     "execution_count": 53,
     "metadata": {},
     "output_type": "execute_result"
    }
   ],
   "source": [
    "col_to_keep = ['created_at','user','text','extended_tweet']\n",
    "df = df[col_to_keep]\n",
    "\n",
    "add_followers = []\n",
    "add_friends = []\n",
    "add_listed = []\n",
    "add_id = []\n",
    "add_name = []\n",
    "add_screename = []\n",
    "\n",
    "# extract elements from dataframe series \n",
    "for index, row in df.iterrows():\n",
    "    fo = (row['user']['followers_count'])\n",
    "    fr = (row['user']['friends_count'])\n",
    "    li = (row['user']['listed_count'])\n",
    "    id = (row['user']['id'])\n",
    "    na = (row['user']['name'])\n",
    "    sc = (row['user']['screen_name'])\n",
    "    \n",
    "    add_followers.append(fo)\n",
    "    add_friends.append(fr)\n",
    "    add_listed.append(li)\n",
    "    add_id.append(id)\n",
    "    add_name.append(na)\n",
    "    add_screename.append(sc)\n",
    "\n",
    "    \n",
    "df['followers'] = add_followers\n",
    "df['friends'] = add_friends\n",
    "df['listed'] = add_listed\n",
    "df['id'] = add_id\n",
    "df['name'] = add_name\n",
    "df['screen_name'] = add_screename\n",
    "# 'ideology_score' column generated for further analysis \n",
    "df['ideo_score'] = ''\n",
    "\n",
    "ncol_to_keep = ['created_at','name','screen_name','id','friends','followers','listed','text','extended_tweet','ideo_score']\n",
    "df = df[ncol_to_keep]\n",
    "# the elementes needed for the further analysis are saved in current dataframe\n",
    "df.head()\n",
    "\n",
    "# Store the data to a csv file\n",
    "pd.to_csv('madrid_pre.csv', encoding='utf-8')"
   ]
  },
  {
   "cell_type": "markdown",
   "metadata": {},
   "source": [
    "# User Filters\n",
    "\n",
    "I limit the sample to only active users, which is defined as those who a) have at least 25 followers, b) follow 50 or more other accounts, c) tweet in English, and d) have sent more than 3 tweets.  \n",
    "\n",
    "For example, the 1st user shown in the dataframe below was created for a testing purpose, which should be removed by filtering.  "
   ]
  },
  {
   "cell_type": "code",
   "execution_count": 54,
   "metadata": {},
   "outputs": [
    {
     "data": {
      "text/html": [
       "<div style=\"max-height:1000px;max-width:1500px;overflow:auto;\">\n",
       "<table border=\"1\" class=\"dataframe\">\n",
       "  <thead>\n",
       "    <tr style=\"text-align: right;\">\n",
       "      <th></th>\n",
       "      <th>id</th>\n",
       "      <th>friends</th>\n",
       "      <th>followers</th>\n",
       "      <th>listed</th>\n",
       "    </tr>\n",
       "  </thead>\n",
       "  <tbody>\n",
       "    <tr>\n",
       "      <th>count</th>\n",
       "      <td> 7.101000e+03</td>\n",
       "      <td>   7101.000000</td>\n",
       "      <td>     7101.000000</td>\n",
       "      <td>  7101.000000</td>\n",
       "    </tr>\n",
       "    <tr>\n",
       "      <th>mean</th>\n",
       "      <td>-6.329437e+14</td>\n",
       "      <td>    925.918603</td>\n",
       "      <td>    46901.008309</td>\n",
       "      <td>    77.500915</td>\n",
       "    </tr>\n",
       "    <tr>\n",
       "      <th>std</th>\n",
       "      <td> 4.444126e+17</td>\n",
       "      <td>   6754.944716</td>\n",
       "      <td>   778821.256344</td>\n",
       "      <td>   850.950874</td>\n",
       "    </tr>\n",
       "    <tr>\n",
       "      <th>min</th>\n",
       "      <td> 6.542030e+05</td>\n",
       "      <td>      0.000000</td>\n",
       "      <td>        0.000000</td>\n",
       "      <td>     0.000000</td>\n",
       "    </tr>\n",
       "    <tr>\n",
       "      <th>25%</th>\n",
       "      <td> 3.881136e+08</td>\n",
       "      <td>    113.000000</td>\n",
       "      <td>       36.000000</td>\n",
       "      <td>     0.000000</td>\n",
       "    </tr>\n",
       "    <tr>\n",
       "      <th>50%</th>\n",
       "      <td> 2.634617e+09</td>\n",
       "      <td>    319.000000</td>\n",
       "      <td>      204.000000</td>\n",
       "      <td>     1.000000</td>\n",
       "    </tr>\n",
       "    <tr>\n",
       "      <th>75%</th>\n",
       "      <td> 8.849007e+17</td>\n",
       "      <td>    749.000000</td>\n",
       "      <td>      742.000000</td>\n",
       "      <td>     9.000000</td>\n",
       "    </tr>\n",
       "    <tr>\n",
       "      <th>max</th>\n",
       "      <td> 1.000145e+18</td>\n",
       "      <td> 383675.000000</td>\n",
       "      <td> 21478381.000000</td>\n",
       "      <td> 22337.000000</td>\n",
       "    </tr>\n",
       "  </tbody>\n",
       "</table>\n",
       "</div>"
      ],
      "text/plain": [
       "                 id        friends        followers        listed\n",
       "count  7.101000e+03    7101.000000      7101.000000   7101.000000\n",
       "mean  -6.329437e+14     925.918603     46901.008309     77.500915\n",
       "std    4.444126e+17    6754.944716    778821.256344    850.950874\n",
       "min    6.542030e+05       0.000000         0.000000      0.000000\n",
       "25%    3.881136e+08     113.000000        36.000000      0.000000\n",
       "50%    2.634617e+09     319.000000       204.000000      1.000000\n",
       "75%    8.849007e+17     749.000000       742.000000      9.000000\n",
       "max    1.000145e+18  383675.000000  21478381.000000  22337.000000"
      ]
     },
     "execution_count": 54,
     "metadata": {},
     "output_type": "execute_result"
    }
   ],
   "source": [
    "df.describe()\n",
    "# description of friends/follower/listed in the previous dataframe\n",
    "\n",
    "df = df[df['friends'] >= 50]\n",
    "df = df[df['followers'] >= 25]\n",
    "df = df[df['listed'] >=3]"
   ]
  },
  {
   "cell_type": "code",
   "execution_count": 56,
   "metadata": {},
   "outputs": [
    {
     "data": {
      "text/html": [
       "<div style=\"max-height:1000px;max-width:1500px;overflow:auto;\">\n",
       "<table border=\"1\" class=\"dataframe\">\n",
       "  <thead>\n",
       "    <tr style=\"text-align: right;\">\n",
       "      <th></th>\n",
       "      <th>id</th>\n",
       "      <th>friends</th>\n",
       "      <th>followers</th>\n",
       "      <th>listed</th>\n",
       "    </tr>\n",
       "  </thead>\n",
       "  <tbody>\n",
       "    <tr>\n",
       "      <th>count</th>\n",
       "      <td> 2.796000e+03</td>\n",
       "      <td>   2796.000000</td>\n",
       "      <td>     2796.000000</td>\n",
       "      <td>  2796.000000</td>\n",
       "    </tr>\n",
       "    <tr>\n",
       "      <th>mean</th>\n",
       "      <td> 4.806150e+14</td>\n",
       "      <td>   1770.631617</td>\n",
       "      <td>   118087.332976</td>\n",
       "      <td>   194.208155</td>\n",
       "    </tr>\n",
       "    <tr>\n",
       "      <th>std</th>\n",
       "      <td> 2.555179e+17</td>\n",
       "      <td>  10684.502368</td>\n",
       "      <td>  1237683.923388</td>\n",
       "      <td>  1346.987286</td>\n",
       "    </tr>\n",
       "    <tr>\n",
       "      <th>min</th>\n",
       "      <td> 6.542030e+05</td>\n",
       "      <td>     50.000000</td>\n",
       "      <td>       27.000000</td>\n",
       "      <td>     3.000000</td>\n",
       "    </tr>\n",
       "    <tr>\n",
       "      <th>25%</th>\n",
       "      <td> 1.941524e+08</td>\n",
       "      <td>    332.000000</td>\n",
       "      <td>      373.750000</td>\n",
       "      <td>     5.000000</td>\n",
       "    </tr>\n",
       "    <tr>\n",
       "      <th>50%</th>\n",
       "      <td> 5.094155e+08</td>\n",
       "      <td>    655.500000</td>\n",
       "      <td>      902.000000</td>\n",
       "      <td>    13.000000</td>\n",
       "    </tr>\n",
       "    <tr>\n",
       "      <th>75%</th>\n",
       "      <td> 2.399922e+09</td>\n",
       "      <td>   1310.750000</td>\n",
       "      <td>     2997.000000</td>\n",
       "      <td>    42.000000</td>\n",
       "    </tr>\n",
       "    <tr>\n",
       "      <th>max</th>\n",
       "      <td> 9.959838e+17</td>\n",
       "      <td> 383675.000000</td>\n",
       "      <td> 21478381.000000</td>\n",
       "      <td> 22337.000000</td>\n",
       "    </tr>\n",
       "  </tbody>\n",
       "</table>\n",
       "</div>"
      ],
      "text/plain": [
       "                 id        friends        followers        listed\n",
       "count  2.796000e+03    2796.000000      2796.000000   2796.000000\n",
       "mean   4.806150e+14    1770.631617    118087.332976    194.208155\n",
       "std    2.555179e+17   10684.502368   1237683.923388   1346.987286\n",
       "min    6.542030e+05      50.000000        27.000000      3.000000\n",
       "25%    1.941524e+08     332.000000       373.750000      5.000000\n",
       "50%    5.094155e+08     655.500000       902.000000     13.000000\n",
       "75%    2.399922e+09    1310.750000      2997.000000     42.000000\n",
       "max    9.959838e+17  383675.000000  21478381.000000  22337.000000"
      ]
     },
     "execution_count": 56,
     "metadata": {},
     "output_type": "execute_result"
    }
   ],
   "source": [
    "df.describe()\n",
    "# description of friends/follower/listed in the present dataframe that contains all 'active' users"
   ]
  },
  {
   "cell_type": "markdown",
   "metadata": {},
   "source": [
    "# Dataframe Merge"
   ]
  },
  {
   "cell_type": "code",
   "execution_count": 34,
   "metadata": {},
   "outputs": [
    {
     "name": "stdout",
     "output_type": "stream",
     "text": [
      "                       created_at                name      screen_name  \\\n",
      "0  Mon May 21 01:44:58 +0000 2018   Binyamin Alsagoff   benalsagoff676   \n",
      "1  Mon May 21 04:01:00 +0000 2018              LaLiga           LaLiga   \n",
      "2  Mon May 21 04:08:40 +0000 2018  Vida Social Bogotá   SocialEnBogota   \n",
      "3  Mon May 21 04:38:32 +0000 2018                 TD.         iamthetd   \n",
      "4  Mon May 21 04:52:52 +0000 2018  bigtime or bigmike  Michaelgreatho2   \n",
      "\n",
      "           id  friends  followers  listed  \\\n",
      "0   325975611      211        221       3   \n",
      "1   423384542      828    3632180    5536   \n",
      "2  2611748882    14598      34695     290   \n",
      "3  1066034574      557         94       6   \n",
      "4  2440701187     1918        742       4   \n",
      "\n",
      "                                                text  \\\n",
      "0  Countdown to @ChampionsLeague 2018 Final in Ky...   \n",
      "1  ¡@Cristiano llega a los 4⃣5⃣0⃣ goles con el @r...   \n",
      "2  ¡@Cristiano llega a los 4⃣5⃣0⃣ goles con el @r...   \n",
      "3  Well, @realmadrid ended this seasons @LaLiga c...   \n",
      "4  @BleacherReport @Cristiano @realmadrid Yall la...   \n",
      "\n",
      "                                      extended_tweet  ideo_score  \n",
      "0                                                NaN         NaN  \n",
      "1                                                NaN         NaN  \n",
      "2                                                NaN         NaN  \n",
      "3  {u'display_text_range': [0, 246], u'entities':...         NaN  \n",
      "4                                                NaN         NaN  \n",
      "                          created_at              name      screen_name  \\\n",
      "4046  Sat Jun 16 02:31:04 +0000 2018       Keith Trask         seve1111   \n",
      "4047  Sat Jun 16 02:34:46 +0000 2018  Point Less point  PointLesspoint5   \n",
      "4048  Sat Jun 16 02:41:57 +0000 2018          Dat Boii  ThaChampionJas1   \n",
      "4049  Sat Jun 16 02:47:44 +0000 2018               Abk        abkCrizil   \n",
      "4050  Sat Jun 16 03:10:59 +0000 2018         effa’s 🌎           eff_uh   \n",
      "\n",
      "                id  friends  followers  listed  \\\n",
      "4046  1.364044e+08      205        170      12   \n",
      "4047  9.958450e+17        2          2       0   \n",
      "4048  3.080277e+09      121         20       0   \n",
      "4049  1.048963e+09      370        693      16   \n",
      "4050  7.055940e+17      311        401       1   \n",
      "\n",
      "                                                   text extended_tweet  \\\n",
      "4046  The greatest player of his lifetime @realmadri...            NaN   \n",
      "4047  CR7 🙃💪 Spain well played occupied ball 80% o...            NaN   \n",
      "4048  @realmadrid @Cristiano @nachofi1990 All 3 Play...            NaN   \n",
      "4049  You'll rule the world with Real Madrid. No wor...            NaN   \n",
      "4050  It was a shot at the @realmadrid president. ht...            NaN   \n",
      "\n",
      "      ideo_score  \n",
      "4046         NaN  \n",
      "4047         NaN  \n",
      "4048         NaN  \n",
      "4049         NaN  \n",
      "4050         NaN  \n"
     ]
    }
   ],
   "source": [
    "madrid_df1 = pd.read_csv('nmadrid_pre.csv')\n",
    "madrid_df2 = pd.read_csv('nmadrid_mid.csv')\n",
    "madrid_df3 = pd.read_csv('nmadrid_post_week1.csv')\n",
    "madrid_df4 = pd.read_csv('nmadrid_post_week2.csv')\n",
    "madrid_df5 = pd.read_csv('nmadrid_post_week3.csv')\n",
    "\n",
    "madrid_df = pd.concat([madrid_df1, madird_df2, madrid_df3, madrid_df4, madrid_df5])\n",
    "# save as a new csv\n",
    "madrid_df.to_csv('madrid_df.csv')\n",
    "\n",
    "print(madrid_df.head())\n",
    "print(madrid_df.tail())"
   ]
  },
  {
   "cell_type": "code",
   "execution_count": 40,
   "metadata": {},
   "outputs": [
    {
     "name": "stdout",
     "output_type": "stream",
     "text": [
      "                       created_at                  name   screen_name  \\\n",
      "0  Mon May 21 01:15:18 +0000 2018        Rami Elhussein       ramizak   \n",
      "1  Mon May 21 01:16:48 +0000 2018  The English American      an_esq10   \n",
      "2  Mon May 21 01:23:34 +0000 2018           Julianto HG  sersankancil   \n",
      "3  Mon May 21 01:23:53 +0000 2018      nathan middleton   nathanjm000   \n",
      "4  Mon May 21 01:28:09 +0000 2018  Fantasy Sport Source  superfan1623   \n",
      "\n",
      "             id  friends  followers  listed  \\\n",
      "0  2.741735e+07      929        388      19   \n",
      "1  7.603282e+08      724        349       8   \n",
      "2  1.723466e+08      178        263       6   \n",
      "3  8.190000e+17     4971       2840      10   \n",
      "4  3.461252e+08     1293       1051      13   \n",
      "\n",
      "                                                text  \\\n",
      "0  @nicktanner799 @ayushmalla77 @LFC Sad news but...   \n",
      "1  @EL_PISTOLERO_07 @LFC Why would you want De Vr...   \n",
      "2  Follow @LFC @LiverpudlianLFC @OfficialLFC_ID #...   \n",
      "3  @EL_PISTOLERO_07 @LFC He has already signed FO...   \n",
      "4  @EL_PISTOLERO_07 @an_esq10 @LFC De vrij just m...   \n",
      "\n",
      "                                      extended_tweet  ideo_score  \n",
      "0                                                NaN         NaN  \n",
      "1                                                NaN         NaN  \n",
      "2  {u'display_text_range': [0, 158], u'entities':...         NaN  \n",
      "3                                                NaN         NaN  \n",
      "4                                                NaN         NaN  \n",
      "                          created_at                     name     screen_name  \\\n",
      "7913  Sat Jun 16 02:32:54 +0000 2018                 Al Smith  allansmithuk83   \n",
      "7914  Sat Jun 16 02:33:05 +0000 2018                 Al Smith  allansmithuk83   \n",
      "7915  Sat Jun 16 02:34:23 +0000 2018       Neil Michael Owens           mrNMO   \n",
      "7916  Sat Jun 16 03:05:38 +0000 2018       Moustafa El-Hawary  Moustafahawary   \n",
      "7917  Sat Jun 16 03:11:43 +0000 2018  virgil van lesbian 🇺🇦    IanStano1966   \n",
      "\n",
      "              id  friends  followers  listed  \\\n",
      "7913   353658222     4789       2049     317   \n",
      "7914   353658222     4789       2049     317   \n",
      "7915    45513121      434      19539       7   \n",
      "7916   599658390      209        277       3   \n",
      "7917  2401947221     2692       1451      10   \n",
      "\n",
      "                                                   text  \\\n",
      "7913  Enter for your chance to WIN an official LFC J...   \n",
      "7914  Enter for your chance to WIN a LFC Adult membe...   \n",
      "7915  This statement makes the departure so much wor...   \n",
      "7916  Egyptian fans singing Happy Birthday song for ...   \n",
      "7917  @Marklfc10Mark @LFC Karius is a bag of nerves ...   \n",
      "\n",
      "                                         extended_tweet  ideo_score  \n",
      "7913                                                NaN         NaN  \n",
      "7914                                                NaN         NaN  \n",
      "7915                                                NaN         NaN  \n",
      "7916  {u'display_text_range': [0, 138], u'entities':...         NaN  \n",
      "7917                                                NaN         NaN  \n"
     ]
    }
   ],
   "source": [
    "liverp_df1 = pd.read_csv('nliverpool_pre.csv')\n",
    "liverp_df2 = pd.read_csv('nliverpool_mid.csv')\n",
    "liverp_df3 = pd.read_csv('nliverpool_post_week1.csv')\n",
    "liverp_df4 = pd.read_csv('nliverpool_post_week2.csv')\n",
    "liverp_df5 = pd.read_csv('nliverpool_post_week3.csv')\n",
    "\n",
    "liverp_df = pd.concat([liverp_df1, liverp_df2, liverp_df3, liverp_df4, liverp_df5])\n",
    "# save as a new csv\n",
    "liverp_df.to_csv('liverp_df.csv')\n",
    "\n",
    "print(liverp_df.head())\n",
    "print(liverp_df.tail())"
   ]
  },
  {
   "cell_type": "markdown",
   "metadata": {},
   "source": [
    "The two new dataframes are generated which contains all timeslots. Length with 35010 rows in madrid_df and 145509 rows in liverp_df (verify as below). "
   ]
  },
  {
   "cell_type": "code",
   "execution_count": 47,
   "metadata": {},
   "outputs": [
    {
     "name": "stdout",
     "output_type": "stream",
     "text": [
      "35010\n",
      "145509\n",
      "35010\n",
      "145509\n"
     ]
    }
   ],
   "source": [
    "print(np.sum([len(madrid_df1), len(madrid_df2),len(madrid_df3),len(madrid_df4),len(madrid_df5)]))\n",
    "print(np.sum([len(liverp_df1), len(liverp_df2),len(liverp_df3),len(liverp_df4),len(liverp_df5)]))\n",
    "print(len(madrid_df))\n",
    "print(len(liverp_df))"
   ]
  },
  {
   "cell_type": "markdown",
   "metadata": {},
   "source": [
    "# Project Part 2: Text Cleaning \n",
    "\n",
    "One of the 1st steps in working with twitter text is to pre-process it. The most of text data is highly unstructured and noisy - to achieve better insights or to build better algorithms, it is necessary to play with clean data. \n",
    "\n",
    "The possible noise elements that should be removed as follows: \n",
    "\n",
    "\n",
    "- Decoding data: transforming information from complex symbols to simple and easier to understand characters (i.e., UTF-8 encoding is widely accepted and is recommended to use)\n",
    "- HTML characters: it looks like the data obtained from web usually contains a lot of html entities such as &amp in the text field, which should be removed\n",
    "- URLs: URLs and hyperlinks in text data like comments, reviews, and tweets should be removed\n",
    "- Emoticons: textual data can contain facial expression using characters. This information doesn't add value to build sentiment analysis model\n",
    "- @mention: same with emoticons, even though it carries some information, for sentiment analysis purpose, this can be ignored\n",
    "- Hash-tags: leave the text intact and just remove the '#'\n",
    "- Stop-words: the commonly occurring words such as 'a', 'the', 'it', 'to' should be removed. One can either create a long list of stop-words or one can use predefined language specific libraries\n",
    "- Split: check if there's any contracted or negated term i.e., 'isn't', and replace it with its original form\n",
    "\n",
    "Examples can be found as follows. "
   ]
  },
  {
   "cell_type": "markdown",
   "metadata": {},
   "source": [
    "## Text Cleaning : Removal of Stop-words"
   ]
  },
  {
   "cell_type": "code",
   "execution_count": 5,
   "metadata": {},
   "outputs": [],
   "source": [
    "pd.set_option('display.max_colwidth', -1)"
   ]
  },
  {
   "cell_type": "code",
   "execution_count": 6,
   "metadata": {},
   "outputs": [
    {
     "name": "stdout",
     "output_type": "stream",
     "text": [
      "0    Countdown to @ChampionsLeague 2018 Final in Kyiv, Russia. @LFC vs @realmadrid #YNWA #6DaysToGo https://t.co/Ixx0jnPdNy\n",
      "Name: text, dtype: object\n",
      "0    Countdown @ChampionsLeague 2018 Final Kyiv, Russia. @LFC vs @realmadrid #YNWA #6DaysToGo https://t.co/Ixx0jnPdNy\n",
      "Name: text, dtype: object\n"
     ]
    }
   ],
   "source": [
    "df = pd.read_csv('madrid_df.csv')\n",
    "test_text = df['text'][:1]\n",
    "\n",
    "from nltk.corpus import stopwords\n",
    "import string\n",
    "replace_set = stopwords.words('english')\n",
    "no_stopwords = test_text.str.split(' ').apply(lambda x: ' '.join(k for k in x if k not in replace_set))\n",
    "\n",
    "print test_text\n",
    "print no_stopwords"
   ]
  },
  {
   "cell_type": "markdown",
   "metadata": {},
   "source": [
    "## Text Cleaning : Decoding and Escaping HTML "
   ]
  },
  {
   "cell_type": "code",
   "execution_count": 35,
   "metadata": {},
   "outputs": [
    {
     "name": "stdout",
     "output_type": "stream",
     "text": [
      "Have a read of the latest Q&amp;A from @_Chris_Hurst_ on @LiverpoolFCHQ_ 🔴🇺🇦 https://t.co/VlAFdgPy4s\n",
      "Have a read of the latest Q&A from @_Chris_Hurst_ on @LiverpoolFCHQ_  https://t.co/VlAFdgPy4s\n"
     ]
    }
   ],
   "source": [
    "test_text2 = df['text'][83]\n",
    "print(test_text2)\n",
    "test_text2_decoding = test_text2.decode(\"utf8\").encode('ascii','ignore')\n",
    "\n",
    "import HTMLParser\n",
    "html_parser = HTMLParser.HTMLParser()\n",
    "no_html = html_parser.unescape(test_text2_decoding)\n",
    "print(no_html)"
   ]
  },
  {
   "cell_type": "markdown",
   "metadata": {},
   "source": [
    "## Text Cleaning : URL links"
   ]
  },
  {
   "cell_type": "code",
   "execution_count": 36,
   "metadata": {},
   "outputs": [
    {
     "name": "stdout",
     "output_type": "stream",
     "text": [
      "Have a read of the latest Q&A from @_Chris_Hurst_ on @LiverpoolFCHQ_  \n"
     ]
    }
   ],
   "source": [
    "import re\n",
    "\n",
    "no_urls = re.sub(r'http[s]?://(?:[a-z]|[0-9]|[$-_@.&amp;+]|[!*\\(\\),]|(?:%[0-9a-f][0-9a-f]))+','',no_html)\n",
    "print(no_urls)"
   ]
  },
  {
   "cell_type": "markdown",
   "metadata": {},
   "source": [
    "## Text Cleaning : @mention"
   ]
  },
  {
   "cell_type": "code",
   "execution_count": 37,
   "metadata": {},
   "outputs": [
    {
     "name": "stdout",
     "output_type": "stream",
     "text": [
      "Have a read of the latest Q&A from  on   \n"
     ]
    }
   ],
   "source": [
    "no_atmention = re.sub(r'@[\\w_]+','', no_urls)\n",
    "print(no_atmention)"
   ]
  },
  {
   "cell_type": "markdown",
   "metadata": {},
   "source": [
    "## Text Cleaning : Emoticons"
   ]
  },
  {
   "cell_type": "code",
   "execution_count": 38,
   "metadata": {},
   "outputs": [
    {
     "name": "stdout",
     "output_type": "stream",
     "text": [
      "@socraticjuan How could @realmadrid do that atrocity to @IkerCasillas i feel sorry for him 😠😠😢😢\n"
     ]
    },
    {
     "data": {
      "text/plain": [
       "'@socraticjuan How could @realmadrid do that atrocity to @IkerCasillas i feel sorry for him \\xf0\\x9f\\x98\\xa0\\xf0\\x9f\\x98\\xa0\\xf0\\x9f\\x98\\xa2\\xf0\\x9f\\x98\\xa2'"
      ]
     },
     "execution_count": 38,
     "metadata": {},
     "output_type": "execute_result"
    }
   ],
   "source": [
    "test_text3 = df['text'][11]\n",
    "print(test_text3)\n",
    "\n",
    "re.sub(r'[:=;] [oO\\-]?[D\\)\\]\\(\\]/\\\\OpP]', '', test_text3)"
   ]
  },
  {
   "cell_type": "markdown",
   "metadata": {},
   "source": [
    "## Defining Text Cleaning Function"
   ]
  },
  {
   "cell_type": "markdown",
   "metadata": {},
   "source": [
    "Now definding a function for text cleaning and apply to the whole dataset. Tokenization, stemming/lemmatization will be dealt with later stage when creating matrix with either count vectorizer or Tfidf vectorizer."
   ]
  },
  {
   "cell_type": "code",
   "execution_count": 7,
   "metadata": {},
   "outputs": [
    {
     "data": {
      "text/plain": [
       "0    Countdown to @ChampionsLeague 2018 Final in Kyiv, Russia. @LFC vs @realmadrid #YNWA #6DaysToGo https://t.co/Ixx0jnPdNy                      \n",
       "1    ¡@Cristiano llega a los 4⃣5⃣0⃣ goles con el @realmadrid! 💥 https://t.co/YHfrJ3E6B3                                                         \n",
       "2    ¡@Cristiano llega a los 4⃣5⃣0⃣ goles con el @realmadrid ! 💥 https://t.co/NTLogiPwl1                                                        \n",
       "3    Well, @realmadrid ended this seasons @LaLiga campaign the same way they started it, shitty. I just hope that Zidane… https://t.co/zGxANmIWu7\n",
       "4    @BleacherReport @Cristiano @realmadrid Yall late https://t.co/psBUG5iAdB                                                                    \n",
       "5    @LaLiga @Cristiano @realmadrid Yall late https://t.co/Nl1HSiA7fK                                                                            \n",
       "6    \"@LaLiga: ¡@Cristiano llega a los 4⃣5⃣0⃣ goles con el @realmadrid! 💥 https://t.co/0ScNLgSKNM\"                                              \n",
       "7    @BleacherReport @Cristiano @realmadrid Score his 450 goal on may 6 yall so late                                                             \n",
       "8    I really hope Pérez brings @neymarjr to the Bernabéu this summer. There’s no other player that deserves to be a… https://t.co/v2NJeFMlfK    \n",
       "9    Everone so late ronaldo score his 450 goal for Real Madrid on may 6 https://t.co/a4XoOvbQKq                                                 \n",
       "Name: text, dtype: object"
      ]
     },
     "execution_count": 7,
     "metadata": {},
     "output_type": "execute_result"
    }
   ],
   "source": [
    "df_madrid = pd.read_csv('madrid_df.csv')\n",
    "demo = df_madrid['text'][:10] # demo testing with 10 texts \n",
    "demo"
   ]
  },
  {
   "cell_type": "code",
   "execution_count": 8,
   "metadata": {},
   "outputs": [
    {
     "name": "stderr",
     "output_type": "stream",
     "text": [
      "C:\\Users\\yaffy\\Anaconda2\\lib\\site-packages\\ipykernel_launcher.py:2: UnicodeWarning: Unicode equal comparison failed to convert both arguments to Unicode - interpreting them as being unequal\n",
      "  \n"
     ]
    },
    {
     "data": {
      "text/plain": [
       "0    Countdown @ChampionsLeague 2018 Final Kyiv, Russia. @LFC vs @realmadrid #YNWA #6DaysToGo https://t.co/Ixx0jnPdNy\n",
       "1    ¡@Cristiano llega los 4⃣5⃣0⃣ goles con el @realmadrid! 💥 https://t.co/YHfrJ3E6B3                               \n",
       "2    ¡@Cristiano llega los 4⃣5⃣0⃣ goles con el @realmadrid ! 💥 https://t.co/NTLogiPwl1                              \n",
       "3    Well, @realmadrid ended seasons @LaLiga campaign way started it, shitty. I hope Zidane… https://t.co/zGxANmIWu7 \n",
       "4    @BleacherReport @Cristiano @realmadrid Yall late https://t.co/psBUG5iAdB                                        \n",
       "5    @LaLiga @Cristiano @realmadrid Yall late https://t.co/Nl1HSiA7fK                                                \n",
       "6    \"@LaLiga: ¡@Cristiano llega los 4⃣5⃣0⃣ goles con el @realmadrid! 💥 https://t.co/0ScNLgSKNM\"                    \n",
       "7    @BleacherReport @Cristiano @realmadrid Score 450 goal may 6 yall late                                           \n",
       "8    I really hope Pérez brings @neymarjr Bernabéu summer. There’s player deserves a… https://t.co/v2NJeFMlfK        \n",
       "9    Everone late ronaldo score 450 goal Real Madrid may 6 https://t.co/a4XoOvbQKq                                   \n",
       "Name: text, dtype: object"
      ]
     },
     "execution_count": 8,
     "metadata": {},
     "output_type": "execute_result"
    }
   ],
   "source": [
    "replace_set = stopwords.words('english') \n",
    "demo = demo.str.split(' ').apply(lambda x: ' '.join(k for k in x if k not in replace_set)) # texts with no stop-words\n",
    "demo"
   ]
  },
  {
   "cell_type": "markdown",
   "metadata": {},
   "source": [
    "Splitting terms with contraction and negation "
   ]
  },
  {
   "cell_type": "code",
   "execution_count": 9,
   "metadata": {},
   "outputs": [],
   "source": [
    "split_dic = {\"ain't\": \"is not\", \"aren't\": \"are not\",\"can't\": \"cannot\", \n",
    "             \"can't've\": \"cannot have\", \"'cause\": \"because\", \"could've\": \"could have\", \n",
    "             \"couldn't\": \"could not\", \"couldn't've\": \"could not have\",\"didn't\": \"did not\", \n",
    "             \"doesn't\": \"does not\", \"don't\": \"do not\", \"hadn't\": \"had not\",  \n",
    "             \"hadn't've\": \"had not have\", \"hasn't\": \"has not\", \"haven't\": \"have not\", \n",
    "             \"he'd\": \"he would\", \"he'd've\": \"he would have\", \"he'll\": \"he will\", \n",
    "             \"he'll've\": \"he will have\", \"he's\": \"he is\", \"how'd\": \"how did\", \n",
    "             \"how'd'y\": \"how do you\", \"how'll\": \"how will\", \"how's\": \"how is\", \n",
    "             \"I'd\": \"I would\", \"I'd've\": \"I would have\", \"I'll\": \"I will\", \n",
    "             \"I'll've\": \"I will have\",\"I'm\": \"I am\", \"I've\": \"I have\", \n",
    "             \"i'd\": \"i would\", \"i'd've\": \"i would have\", \"i'll\": \"i will\", \n",
    "             \"i'll've\": \"i will have\",\"i'm\": \"i am\", \"i've\": \"i have\", \n",
    "             \"isn't\": \"is not\", \"it'd\": \"it would\", \"it'd've\": \"it would have\", \n",
    "             \"it'll\": \"it will\", \"it'll've\": \"it will have\",\"it's\": \"it is\", \n",
    "             \"let's\": \"let us\", \"ma'am\": \"madam\", \"mayn't\": \"may not\", \n",
    "             \"might've\": \"might have\",\"mightn't\": \"might not\",\"mightn't've\": \"might not have\", \n",
    "             \"must've\": \"must have\", \"mustn't\": \"must not\", \"mustn't've\": \"must not have\", \n",
    "             \"needn't\": \"need not\", \"needn't've\": \"need not have\",\"o'clock\": \"of the clock\", \n",
    "             \"oughtn't\": \"ought not\", \"oughtn't've\": \"ought not have\", \"shan't\": \"shall not\",\n",
    "             \"sha'n't\": \"shall not\", \"shan't've\": \"shall not have\", \"she'd\": \"she would\", \n",
    "             \"she'd've\": \"she would have\", \"she'll\": \"she will\", \"she'll've\": \"she will have\", \n",
    "             \"she's\": \"she is\", \"should've\": \"should have\", \"shouldn't\": \"should not\", \n",
    "             \"shouldn't've\": \"should not have\", \"so've\": \"so have\",\"so's\": \"so as\", \n",
    "             \"this's\": \"this is\",\n",
    "             \"that'd\": \"that would\", \"that'd've\": \"that would have\",\"that's\": \"that is\", \n",
    "             \"there'd\": \"there would\", \"there'd've\": \"there would have\",\"there's\": \"there is\", \n",
    "             \"here's\": \"here is\",\n",
    "             \"they'd\": \"they would\", \"they'd've\": \"they would have\", \"they'll\": \"they will\", \n",
    "             \"they'll've\": \"they will have\", \"they're\": \"they are\", \"they've\": \"they have\",\n",
    "             \"to've\": \"to have\", \"wasn't\": \"was not\", \"we'd\": \"we would\", \n",
    "             \"we'd've\": \"we would have\", \"we'll\": \"we will\", \"we'll've\": \"we will have\", \n",
    "             \"we're\": \"we are\", \"we've\": \"we have\", \"weren't\": \"were not\",\n",
    "             \"what'll\": \"what will\", \"what'll've\": \"what will have\", \"what're\": \"what are\", \n",
    "             \"what's\": \"what is\", \"what've\": \"what have\", \"when's\": \"when is\", \n",
    "             \"when've\": \"when have\", \"where'd\": \"where did\", \"where's\": \"where is\", \n",
    "             \"where've\": \"where have\", \"who'll\": \"who will\", \"who'll've\": \"who will have\", \n",
    "             \"who's\": \"who is\", \"who've\": \"who have\", \"why's\": \"why is\", \n",
    "             \"why've\": \"why have\", \"will've\": \"will have\", \"won't\": \"will not\",\n",
    "             \"won't've\": \"will not have\", \"would've\": \"would have\", \"wouldn't\": \"would not\", \n",
    "             \"wouldn't've\": \"would not have\", \"y'all\": \"you all\", \"y'all'd\": \"you all would\",\n",
    "             \"y'all'd've\": \"you all would have\",\"y'all're\": \"you all are\",\"y'all've\": \"you all have\",\n",
    "             \"you'd\": \"you would\", \"you'd've\": \"you would have\", \"you'll\": \"you will\", \n",
    "             \"you'll've\": \"you will have\", \"you're\": \"you are\", \"you've\": \"you have\" }"
   ]
  },
  {
   "cell_type": "code",
   "execution_count": 10,
   "metadata": {
    "scrolled": true
   },
   "outputs": [
    {
     "name": "stderr",
     "output_type": "stream",
     "text": [
      "C:\\Users\\yaffy\\Anaconda2\\lib\\encodings\\utf_8_sig.py:19: UnicodeWarning: Unicode equal comparison failed to convert both arguments to Unicode - interpreting them as being unequal\n",
      "  if input[:3] == codecs.BOM_UTF8:\n"
     ]
    },
    {
     "data": {
      "text/plain": [
       "[u'countdown final kyiv russia vs',\n",
       " u'llega los goles con el',\n",
       " u'llega los goles con el',\n",
       " u'well ended seasons campaign way started it shitty hope zidane',\n",
       " u'yall late',\n",
       " u'yall late',\n",
       " u'llega los goles con el',\n",
       " u'score goal may yall late',\n",
       " u'really hope rez brings bernab summer there player deserves',\n",
       " u'everone late ronaldo score goal real madrid may']"
      ]
     },
     "execution_count": 10,
     "metadata": {},
     "output_type": "execute_result"
    }
   ],
   "source": [
    "from nltk.tokenize import WordPunctTokenizer\n",
    "from nltk.tokenize import word_tokenize\n",
    "import re\n",
    "from bs4 import BeautifulSoup\n",
    "\n",
    "tok = WordPunctTokenizer()\n",
    "\n",
    "pat1 = r'@[\\w_]+' # @-mention\n",
    "pat2 = r'http[s]?://(?:[a-z]|[0-9]|[$-_@.&amp;+]|[!*\\(\\),]|(?:%[0-9a-f][0-9a-f]))+' # URLs\n",
    "pat3 = r'[:=;] [oO\\-]?[D\\)\\]\\(\\]/\\\\OpP]' # emoticons\n",
    "pat4 = r'(?:\\#+[\\w_]+[\\w\\'_\\-]*[\\w_]+)' # hash-tags\n",
    "pat5 = r'www.[^ ]+' # additions to URLs, texts with 'www..'\n",
    "combined_pat = r'|'.join((pat1, pat2, pat3,pat4,pat5))\n",
    "\n",
    "\n",
    "split_pattern = re.compile(r'\\b(' + '|'.join(split_dic.keys()) + r')\\b')\n",
    "\n",
    "\n",
    "def tweet_cleaner(demo):\n",
    "    soup = BeautifulSoup(demo, 'lxml') # HTML\n",
    "    souped = soup.get_text()\n",
    "    try:\n",
    "        clean = souped.decode(\"utf-8-sig\").replace(u\"\\ufffd\", \"?\")\n",
    "        # decoding text with 'utf-8-sig'\n",
    "    except:\n",
    "        clean = souped\n",
    "    \n",
    "    stripped = re.sub(combined_pat, '', clean)\n",
    "    lower_case = stripped.lower()\n",
    "    split_handled = split_pattern.sub(lambda x: split_dic[x.group()], lower_case)\n",
    "    letters_only = re.sub(\"[^a-zA-Z]\", \" \", split_handled)\n",
    "    spell_corrected = re.sub(r'(.)\\1+', r'\\1\\1', letters_only)\n",
    "    # check if there's any spell with repeated characters such as 'soooo good', and transform it as 'soo good' or 'loove it'. Not a perfect solution but could reduct feature space by making\n",
    "    words = [x for x in tok.tokenize(spell_corrected) if len(x) > 1]\n",
    "\n",
    "    return (\" \".join(words)).strip()\n",
    "\n",
    "test_result = []\n",
    "for t in demo:\n",
    "    test_result.append(tweet_cleaner(t))\n",
    "    # [tweet_cleaner(t) for t in demo]\n",
    "\n",
    "test_result # cleaning texts"
   ]
  },
  {
   "cell_type": "markdown",
   "metadata": {},
   "source": [
    "## Apply Text Cleaning Function to Tweets"
   ]
  },
  {
   "cell_type": "code",
   "execution_count": 11,
   "metadata": {},
   "outputs": [
    {
     "name": "stderr",
     "output_type": "stream",
     "text": [
      "C:\\Users\\yaffy\\Anaconda2\\lib\\site-packages\\ipykernel_launcher.py:3: UnicodeWarning: Unicode equal comparison failed to convert both arguments to Unicode - interpreting them as being unequal\n",
      "  This is separate from the ipykernel package so we can avoid doing imports until\n"
     ]
    }
   ],
   "source": [
    "df_madrid = pd.read_csv('madrid_df.csv')\n",
    "replace_set = stopwords.words('english') \n",
    "df_madrid['text'] = df_madrid['text'].str.split(' ').apply(lambda x: ' '.join(k for k in x if k not in replace_set)) # replace stop-words"
   ]
  },
  {
   "cell_type": "code",
   "execution_count": 12,
   "metadata": {},
   "outputs": [
    {
     "name": "stderr",
     "output_type": "stream",
     "text": [
      "C:\\Users\\yaffy\\Anaconda2\\lib\\site-packages\\bs4\\__init__.py:282: UserWarning: \"https://t.co/oEJ7354EcO\" looks like a URL. Beautiful Soup is not an HTTP client. You should probably use an HTTP client like requests to get the document behind the URL, and feed that document to Beautiful Soup.\n",
      "  ' that document to Beautiful Soup.' % decoded_markup\n",
      "C:\\Users\\yaffy\\Anaconda2\\lib\\site-packages\\bs4\\__init__.py:282: UserWarning: \"https://t.co/NZGnT2XvKu\" looks like a URL. Beautiful Soup is not an HTTP client. You should probably use an HTTP client like requests to get the document behind the URL, and feed that document to Beautiful Soup.\n",
      "  ' that document to Beautiful Soup.' % decoded_markup\n",
      "C:\\Users\\yaffy\\Anaconda2\\lib\\site-packages\\bs4\\__init__.py:282: UserWarning: \"https://t.co/GOs8YOaLFe\" looks like a URL. Beautiful Soup is not an HTTP client. You should probably use an HTTP client like requests to get the document behind the URL, and feed that document to Beautiful Soup.\n",
      "  ' that document to Beautiful Soup.' % decoded_markup\n"
     ]
    }
   ],
   "source": [
    "df_madrid['clean_text'] = [tweet_cleaner(t) for t in df_madrid.text]"
   ]
  },
  {
   "cell_type": "markdown",
   "metadata": {},
   "source": [
    "After cleaning the tweets with cleaner function, I create a new dataframe with clean text and certain columns that will be used in the further analysis"
   ]
  },
  {
   "cell_type": "code",
   "execution_count": 13,
   "metadata": {},
   "outputs": [],
   "source": [
    "col_to_drop = ['text', 'extended_tweet','ideo_score']\n",
    "clean_madrid = df_madrid.drop(col_to_drop, axis=1)"
   ]
  },
  {
   "cell_type": "markdown",
   "metadata": {},
   "source": [
    "3,777 entries have null entries for the clean_text column. Looking at the original dataframe, those texts either with Twitter ID or URL address are identified as NaN. These are the info I decide to discard for the sentiment analysis, so I will drop these null rows, and update the data frame."
   ]
  },
  {
   "cell_type": "code",
   "execution_count": 14,
   "metadata": {},
   "outputs": [
    {
     "name": "stdout",
     "output_type": "stream",
     "text": [
      "3777\n"
     ]
    },
    {
     "data": {
      "text/html": [
       "<div>\n",
       "<style scoped>\n",
       "    .dataframe tbody tr th:only-of-type {\n",
       "        vertical-align: middle;\n",
       "    }\n",
       "\n",
       "    .dataframe tbody tr th {\n",
       "        vertical-align: top;\n",
       "    }\n",
       "\n",
       "    .dataframe thead th {\n",
       "        text-align: right;\n",
       "    }\n",
       "</style>\n",
       "<table border=\"1\" class=\"dataframe\">\n",
       "  <thead>\n",
       "    <tr style=\"text-align: right;\">\n",
       "      <th></th>\n",
       "      <th>created_at</th>\n",
       "      <th>name</th>\n",
       "      <th>screen_name</th>\n",
       "      <th>id</th>\n",
       "      <th>friends</th>\n",
       "      <th>followers</th>\n",
       "      <th>listed</th>\n",
       "      <th>text</th>\n",
       "      <th>extended_tweet</th>\n",
       "      <th>ideo_score</th>\n",
       "      <th>clean_text</th>\n",
       "    </tr>\n",
       "  </thead>\n",
       "  <tbody>\n",
       "    <tr>\n",
       "      <th>10</th>\n",
       "      <td>Mon May 21 05:26:15 +0000 2018</td>\n",
       "      <td>Gerson Arce</td>\n",
       "      <td>19gerson</td>\n",
       "      <td>463365631.0</td>\n",
       "      <td>675</td>\n",
       "      <td>786</td>\n",
       "      <td>3</td>\n",
       "      <td>E L C O M A N D A N T E\\r\\r\\r\\n4⃣5⃣0⃣⚽ https://t.co/0NHlSdQLp9</td>\n",
       "      <td>NaN</td>\n",
       "      <td>NaN</td>\n",
       "      <td></td>\n",
       "    </tr>\n",
       "    <tr>\n",
       "      <th>13</th>\n",
       "      <td>Mon May 21 06:21:00 +0000 2018</td>\n",
       "      <td>Rana Ghosal</td>\n",
       "      <td>ranaaissance</td>\n",
       "      <td>56296160.0</td>\n",
       "      <td>532</td>\n",
       "      <td>456</td>\n",
       "      <td>46</td>\n",
       "      <td>@kingpatprash @ChampionsLeague @realmadrid @LFC @sportmarketing1 @Sports_Managing @kennethcortsen @AJKarg… https://t.co/gFIrSNuPJJ</td>\n",
       "      <td>{u'display_text_range': [133, 162], u'entities': {u'user_mentions': [{u'indices': [0, 13], u'screen_name': u'kingpatprash', u'id': 350920112, u'name': u'Prashant Pathare', u'id_str': u'350920112'}, {u'indices': [14, 30], u'screen_name': u'ChampionsLeague', u'id': 627673190, u'name': u'UEFA Champions League', u'id_str': u'627673190'}, {u'indices': [31, 42], u'screen_name': u'realmadrid', u'id': 14872237, u'name': u'Real Madrid C.F. \\u26bd\\ufe0f', u'id_str': u'14872237'}, {u'indices': [43, 47], u'screen_name': u'LFC', u'id': 19583545, u'name': u'Liverpool FC', u'id_str': u'19583545'}, {u'indices': [48, 64], u'screen_name': u'sportmarketing1', u'id': 27426996, u'name': u'alan seymour', u'id_str': u'27426996'}, {u'indices': [65, 81], u'screen_name': u'Sports_Managing', u'id': 873554509037015040L, u'name': u'\\xd3scar Y\\xe1\\xf1ez', u'id_str': u'873554509037015040'}, {u'indices': [82, 97], u'screen_name': u'kennethcortsen', u'id': 24509215, u'name': u'Kenneth Cortsen', u'id_str': u'24509215'}, {u'indices': [98, 105], u'screen_name': u'AJKarg', u'id': 28756684, u'name': u'Adam Karg', u'id_str': u'28756684'}, {u'indices': [106, 121], u'screen_name': u'geoffwnjwilson', u'id': 109710458, u'name': u'Geoff Wilson', u'id_str': u'109710458'}, {u'indices': [122, 132], u'screen_name': u'Lu_Class_', u'id': 2955644493L, u'name': u'\\u0141ukasz B\\u0105czek', u'id_str': u'2955644493'}], u'symbols': [], u'hashtags': [], u'urls': []}, u'full_text': u'@kingpatprash @ChampionsLeague @realmadrid @LFC @sportmarketing1 @Sports_Managing @kennethcortsen @AJKarg @geoffwnjwilson @Lu_Class_ Very interesting. Optimistic?'}</td>\n",
       "      <td>NaN</td>\n",
       "      <td></td>\n",
       "    </tr>\n",
       "    <tr>\n",
       "      <th>16</th>\n",
       "      <td>Mon May 21 07:06:58 +0000 2018</td>\n",
       "      <td>Sebastian Yuen ツ</td>\n",
       "      <td>S3bster</td>\n",
       "      <td>37780157.0</td>\n",
       "      <td>3136</td>\n",
       "      <td>3398</td>\n",
       "      <td>93</td>\n",
       "      <td>@boltyboy @Health2eu @bluetopaz @himsseurope @ChampionsLeague @lucienengelen @pascal_lardier @anoizet @janedwelly… https://t.co/5AWVfVgYyy</td>\n",
       "      <td>{u'display_text_range': [196, 339], u'entities': {u'user_mentions': [{u'indices': [0, 9], u'screen_name': u'boltyboy', u'id': 1248081, u'name': u'Matthew Holt', u'id_str': u'1248081'}, {u'indices': [10, 20], u'screen_name': u'Health2eu', u'id': 221140787, u'name': u'Health 2.0 Europe', u'id_str': u'221140787'}, {u'indices': [21, 31], u'screen_name': u'bluetopaz', u'id': 1073381, u'name': u'Indu Subaiya', u'id_str': u'1073381'}, {u'indices': [32, 44], u'screen_name': u'himsseurope', u'id': 132204567, u'name': u'HIMSS Europe', u'id_str': u'132204567'}, {u'indices': [45, 61], u'screen_name': u'ChampionsLeague', u'id': 627673190, u'name': u'UEFA Champions League', u'id_str': u'627673190'}, {u'indices': [62, 76], u'screen_name': u'lucienengelen', u'id': 15123270, u'name': u'Lucien Engelen', u'id_str': u'15123270'}, {u'indices': [77, 92], u'screen_name': u'pascal_lardier', u'id': 78607265, u'name': u'Pascal Lardier', u'id_str': u'78607265'}, {u'indices': [93, 101], u'screen_name': u'anoizet', u'id': 312960789, u'name': u'Aline Noizet', u'id_str': u'312960789'}, {u'indices': [102, 113], u'screen_name': u'janedwelly', u'id': 108297471, u'name': u'Jane Dwelly', u'id_str': u'108297471'}, {u'indices': [114, 130], u'screen_name': u'Barry_HealthTec', u'id': 44844855, u'name': u'Barry Shrier', u'id_str': u'44844855'}, {u'indices': [131, 144], u'screen_name': u'HealthEugene', u'id': 16139549, u'name': u'Eugene Borukhovich', u'id_str': u'16139549'}, {u'indices': [145, 158], u'screen_name': u'chrispointon', u'id': 28578944, u'name': u'Chris Pointon', u'id_str': u'28578944'}, {u'indices': [159, 170], u'screen_name': u'Anniecoops', u'id': 20327119, u'name': u'Anne Cooper RN FQNI', u'id_str': u'20327119'}, {u'indices': [171, 181], u'screen_name': u'MarkDuman', u'id': 612922732, u'name': u'Mark Duman', u'id_str': u'612922732'}, {u'indices': [182, 195], u'screen_name': u'IndraJoshi10', u'id': 4876080779L, u'name': u'Indra Joshi', u'id_str': u'4876080779'}, {u'indices': [196, 212], u'screen_name': u'ChampionsLeague', u'id': 627673190, u'name': u'UEFA Champions League', u'id_str': u'627673190'}, {u'indices': [228, 232], u'screen_name': u'LFC', u'id': 19583545, u'name': u'Liverpool FC', u'id_str': u'19583545'}, {u'indices': [236, 247], u'screen_name': u'realmadrid', u'id': 14872237, u'name': u'Real Madrid C.F. \\u26bd\\ufe0f', u'id_str': u'14872237'}], u'symbols': [], u'hashtags': [{u'indices': [327, 337], u'text': u'PinkSocks'}], u'urls': []}, u'full_text': u'@boltyboy @Health2eu @bluetopaz @himsseurope @ChampionsLeague @lucienengelen @pascal_lardier @anoizet @janedwelly @Barry_HealthTec @HealthEugene @chrispointon @Anniecoops @MarkDuman @IndraJoshi10 @ChampionsLeague Final features @LFC vs @realmadrid! Who will locals in Barcelona support? \\r\\r\\r\\n\\r\\r\\r\\nAny hotel tips? \\r\\r\\r\\n\\r\\r\\r\\nWill be bringing my #PinkSocks!!'}</td>\n",
       "      <td>NaN</td>\n",
       "      <td></td>\n",
       "    </tr>\n",
       "    <tr>\n",
       "      <th>18</th>\n",
       "      <td>Mon May 21 07:08:42 +0000 2018</td>\n",
       "      <td>Health 2.0 Europe</td>\n",
       "      <td>Health2eu</td>\n",
       "      <td>221140787.0</td>\n",
       "      <td>649</td>\n",
       "      <td>6188</td>\n",
       "      <td>455</td>\n",
       "      <td>@S3bster @boltyboy @bluetopaz @himsseurope @ChampionsLeague @lucienengelen @pascal_lardier @anoizet @janedwelly… https://t.co/ABm9ydxpR4</td>\n",
       "      <td>{u'display_text_range': [211, 273], u'entities': {u'user_mentions': [{u'indices': [0, 8], u'screen_name': u'S3bster', u'id': 37780157, u'name': u'Sebastian Yuen \\u30c4', u'id_str': u'37780157'}, {u'indices': [9, 18], u'screen_name': u'boltyboy', u'id': 1248081, u'name': u'Matthew Holt', u'id_str': u'1248081'}, {u'indices': [19, 29], u'screen_name': u'bluetopaz', u'id': 1073381, u'name': u'Indu Subaiya', u'id_str': u'1073381'}, {u'indices': [30, 42], u'screen_name': u'himsseurope', u'id': 132204567, u'name': u'HIMSS Europe', u'id_str': u'132204567'}, {u'indices': [43, 59], u'screen_name': u'ChampionsLeague', u'id': 627673190, u'name': u'UEFA Champions League', u'id_str': u'627673190'}, {u'indices': [60, 74], u'screen_name': u'lucienengelen', u'id': 15123270, u'name': u'Lucien Engelen', u'id_str': u'15123270'}, {u'indices': [75, 90], u'screen_name': u'pascal_lardier', u'id': 78607265, u'name': u'Pascal Lardier', u'id_str': u'78607265'}, {u'indices': [91, 99], u'screen_name': u'anoizet', u'id': 312960789, u'name': u'Aline Noizet', u'id_str': u'312960789'}, {u'indices': [100, 111], u'screen_name': u'janedwelly', u'id': 108297471, u'name': u'Jane Dwelly', u'id_str': u'108297471'}, {u'indices': [112, 128], u'screen_name': u'Barry_HealthTec', u'id': 44844855, u'name': u'Barry Shrier', u'id_str': u'44844855'}, {u'indices': [129, 142], u'screen_name': u'HealthEugene', u'id': 16139549, u'name': u'Eugene Borukhovich', u'id_str': u'16139549'}, {u'indices': [143, 156], u'screen_name': u'chrispointon', u'id': 28578944, u'name': u'Chris Pointon', u'id_str': u'28578944'}, {u'indices': [157, 168], u'screen_name': u'Anniecoops', u'id': 20327119, u'name': u'Anne Cooper RN FQNI', u'id_str': u'20327119'}, {u'indices': [169, 179], u'screen_name': u'MarkDuman', u'id': 612922732, u'name': u'Mark Duman', u'id_str': u'612922732'}, {u'indices': [180, 193], u'screen_name': u'IndraJoshi10', u'id': 4876080779L, u'name': u'Indra Joshi', u'id_str': u'4876080779'}, {u'indices': [194, 198], u'screen_name': u'LFC', u'id': 19583545, u'name': u'Liverpool FC', u'id_str': u'19583545'}, {u'indices': [199, 210], u'screen_name': u'realmadrid', u'id': 14872237, u'name': u'Real Madrid C.F. \\u26bd\\ufe0f', u'id_str': u'14872237'}], u'symbols': [], u'hashtags': [], u'urls': []}, u'full_text': u'@S3bster @boltyboy @bluetopaz @himsseurope @ChampionsLeague @lucienengelen @pascal_lardier @anoizet @janedwelly @Barry_HealthTec @HealthEugene @chrispointon @Anniecoops @MarkDuman @IndraJoshi10 @LFC @realmadrid I would try an airbnb :) most hotels are running low on rooms!'}</td>\n",
       "      <td>NaN</td>\n",
       "      <td></td>\n",
       "    </tr>\n",
       "    <tr>\n",
       "      <th>19</th>\n",
       "      <td>Mon May 21 07:16:37 +0000 2018</td>\n",
       "      <td>Sebastian Yuen ツ</td>\n",
       "      <td>S3bster</td>\n",
       "      <td>37780157.0</td>\n",
       "      <td>3136</td>\n",
       "      <td>3396</td>\n",
       "      <td>93</td>\n",
       "      <td>@Health2eu @boltyboy @bluetopaz @himsseurope @ChampionsLeague @lucienengelen @pascal_lardier @anoizet @janedwelly… https://t.co/stSG9iJKBA</td>\n",
       "      <td>{u'display_text_range': [213, 242], u'entities': {u'user_mentions': [{u'indices': [0, 10], u'screen_name': u'Health2eu', u'id': 221140787, u'name': u'Health 2.0 Europe', u'id_str': u'221140787'}, {u'indices': [11, 20], u'screen_name': u'boltyboy', u'id': 1248081, u'name': u'Matthew Holt', u'id_str': u'1248081'}, {u'indices': [21, 31], u'screen_name': u'bluetopaz', u'id': 1073381, u'name': u'Indu Subaiya', u'id_str': u'1073381'}, {u'indices': [32, 44], u'screen_name': u'himsseurope', u'id': 132204567, u'name': u'HIMSS Europe', u'id_str': u'132204567'}, {u'indices': [45, 61], u'screen_name': u'ChampionsLeague', u'id': 627673190, u'name': u'UEFA Champions League', u'id_str': u'627673190'}, {u'indices': [62, 76], u'screen_name': u'lucienengelen', u'id': 15123270, u'name': u'Lucien Engelen', u'id_str': u'15123270'}, {u'indices': [77, 92], u'screen_name': u'pascal_lardier', u'id': 78607265, u'name': u'Pascal Lardier', u'id_str': u'78607265'}, {u'indices': [93, 101], u'screen_name': u'anoizet', u'id': 312960789, u'name': u'Aline Noizet', u'id_str': u'312960789'}, {u'indices': [102, 113], u'screen_name': u'janedwelly', u'id': 108297471, u'name': u'Jane Dwelly', u'id_str': u'108297471'}, {u'indices': [114, 130], u'screen_name': u'Barry_HealthTec', u'id': 44844855, u'name': u'Barry Shrier', u'id_str': u'44844855'}, {u'indices': [131, 144], u'screen_name': u'HealthEugene', u'id': 16139549, u'name': u'Eugene Borukhovich', u'id_str': u'16139549'}, {u'indices': [145, 158], u'screen_name': u'chrispointon', u'id': 28578944, u'name': u'Chris Pointon', u'id_str': u'28578944'}, {u'indices': [159, 170], u'screen_name': u'Anniecoops', u'id': 20327119, u'name': u'Anne Cooper RN FQNI', u'id_str': u'20327119'}, {u'indices': [171, 181], u'screen_name': u'MarkDuman', u'id': 612922732, u'name': u'Mark Duman', u'id_str': u'612922732'}, {u'indices': [182, 195], u'screen_name': u'IndraJoshi10', u'id': 4876080779L, u'name': u'Indra Joshi', u'id_str': u'4876080779'}, {u'indices': [196, 200], u'screen_name': u'LFC', u'id': 19583545, u'name': u'Liverpool FC', u'id_str': u'19583545'}, {u'indices': [201, 212], u'screen_name': u'realmadrid', u'id': 14872237, u'name': u'Real Madrid C.F. \\u26bd\\ufe0f', u'id_str': u'14872237'}], u'symbols': [], u'hashtags': [], u'urls': []}, u'full_text': u'@Health2eu @boltyboy @bluetopaz @himsseurope @ChampionsLeague @lucienengelen @pascal_lardier @anoizet @janedwelly @Barry_HealthTec @HealthEugene @chrispointon @Anniecoops @MarkDuman @IndraJoshi10 @LFC @realmadrid Great suggestion!  Thank you!'}</td>\n",
       "      <td>NaN</td>\n",
       "      <td></td>\n",
       "    </tr>\n",
       "  </tbody>\n",
       "</table>\n",
       "</div>"
      ],
      "text/plain": [
       "                        created_at               name   screen_name  \\\n",
       "10  Mon May 21 05:26:15 +0000 2018  Gerson Arce        19gerson       \n",
       "13  Mon May 21 06:21:00 +0000 2018  Rana Ghosal        ranaaissance   \n",
       "16  Mon May 21 07:06:58 +0000 2018  Sebastian Yuen ツ   S3bster        \n",
       "18  Mon May 21 07:08:42 +0000 2018  Health 2.0 Europe  Health2eu      \n",
       "19  Mon May 21 07:16:37 +0000 2018  Sebastian Yuen ツ   S3bster        \n",
       "\n",
       "             id  friends  followers  listed  \\\n",
       "10  463365631.0  675      786        3        \n",
       "13  56296160.0   532      456        46       \n",
       "16  37780157.0   3136     3398       93       \n",
       "18  221140787.0  649      6188       455      \n",
       "19  37780157.0   3136     3396       93       \n",
       "\n",
       "                                                                                                                                          text  \\\n",
       "10  E L C O M A N D A N T E\\r\\r\\r\\n4⃣5⃣0⃣⚽ https://t.co/0NHlSdQLp9                                                                               \n",
       "13  @kingpatprash @ChampionsLeague @realmadrid @LFC @sportmarketing1 @Sports_Managing @kennethcortsen @AJKarg… https://t.co/gFIrSNuPJJ           \n",
       "16  @boltyboy @Health2eu @bluetopaz @himsseurope @ChampionsLeague @lucienengelen @pascal_lardier @anoizet @janedwelly… https://t.co/5AWVfVgYyy   \n",
       "18  @S3bster @boltyboy @bluetopaz @himsseurope @ChampionsLeague @lucienengelen @pascal_lardier @anoizet @janedwelly… https://t.co/ABm9ydxpR4     \n",
       "19  @Health2eu @boltyboy @bluetopaz @himsseurope @ChampionsLeague @lucienengelen @pascal_lardier @anoizet @janedwelly… https://t.co/stSG9iJKBA   \n",
       "\n",
       "                                                                                                                                                                                                                                                                                                                                                                                                                                                                                                                                                                                                                                                                                                                                                                                                                                                                                                                                                                                                                                                                                                                                                                                                                                                                                                                                                                                                                                                                                                                                                                                                                                                                                                                                                                                                                                                                                                                                                                                                                                                                                                                                                                                                                                                                                                                                                                                                                                                                                                                                                                                                                                                                                                                                                                                                                                                                                                                                                     extended_tweet  \\\n",
       "10  NaN                                                                                                                                                                                                                                                                                                                                                                                                                                                                                                                                                                                                                                                                                                                                                                                                                                                                                                                                                                                                                                                                                                                                                                                                                                                                                                                                                                                                                                                                                                                                                                                                                                                                                                                                                                                                                                                                                                                                                                                                                                                                                                                                                                                                                                                                                                                                                                                                                                                                                                                                                                                                                                                                                                                                                                                                                                                                                                                                                               \n",
       "13  {u'display_text_range': [133, 162], u'entities': {u'user_mentions': [{u'indices': [0, 13], u'screen_name': u'kingpatprash', u'id': 350920112, u'name': u'Prashant Pathare', u'id_str': u'350920112'}, {u'indices': [14, 30], u'screen_name': u'ChampionsLeague', u'id': 627673190, u'name': u'UEFA Champions League', u'id_str': u'627673190'}, {u'indices': [31, 42], u'screen_name': u'realmadrid', u'id': 14872237, u'name': u'Real Madrid C.F. \\u26bd\\ufe0f', u'id_str': u'14872237'}, {u'indices': [43, 47], u'screen_name': u'LFC', u'id': 19583545, u'name': u'Liverpool FC', u'id_str': u'19583545'}, {u'indices': [48, 64], u'screen_name': u'sportmarketing1', u'id': 27426996, u'name': u'alan seymour', u'id_str': u'27426996'}, {u'indices': [65, 81], u'screen_name': u'Sports_Managing', u'id': 873554509037015040L, u'name': u'\\xd3scar Y\\xe1\\xf1ez', u'id_str': u'873554509037015040'}, {u'indices': [82, 97], u'screen_name': u'kennethcortsen', u'id': 24509215, u'name': u'Kenneth Cortsen', u'id_str': u'24509215'}, {u'indices': [98, 105], u'screen_name': u'AJKarg', u'id': 28756684, u'name': u'Adam Karg', u'id_str': u'28756684'}, {u'indices': [106, 121], u'screen_name': u'geoffwnjwilson', u'id': 109710458, u'name': u'Geoff Wilson', u'id_str': u'109710458'}, {u'indices': [122, 132], u'screen_name': u'Lu_Class_', u'id': 2955644493L, u'name': u'\\u0141ukasz B\\u0105czek', u'id_str': u'2955644493'}], u'symbols': [], u'hashtags': [], u'urls': []}, u'full_text': u'@kingpatprash @ChampionsLeague @realmadrid @LFC @sportmarketing1 @Sports_Managing @kennethcortsen @AJKarg @geoffwnjwilson @Lu_Class_ Very interesting. Optimistic?'}                                                                                                                                                                                                                                                                                                                                                                                                                                                                                                                                                                                                                                                                                                                                                                                                                                                                                                                                                                                                                                                                                                                                                                                                                                                                                   \n",
       "16  {u'display_text_range': [196, 339], u'entities': {u'user_mentions': [{u'indices': [0, 9], u'screen_name': u'boltyboy', u'id': 1248081, u'name': u'Matthew Holt', u'id_str': u'1248081'}, {u'indices': [10, 20], u'screen_name': u'Health2eu', u'id': 221140787, u'name': u'Health 2.0 Europe', u'id_str': u'221140787'}, {u'indices': [21, 31], u'screen_name': u'bluetopaz', u'id': 1073381, u'name': u'Indu Subaiya', u'id_str': u'1073381'}, {u'indices': [32, 44], u'screen_name': u'himsseurope', u'id': 132204567, u'name': u'HIMSS Europe', u'id_str': u'132204567'}, {u'indices': [45, 61], u'screen_name': u'ChampionsLeague', u'id': 627673190, u'name': u'UEFA Champions League', u'id_str': u'627673190'}, {u'indices': [62, 76], u'screen_name': u'lucienengelen', u'id': 15123270, u'name': u'Lucien Engelen', u'id_str': u'15123270'}, {u'indices': [77, 92], u'screen_name': u'pascal_lardier', u'id': 78607265, u'name': u'Pascal Lardier', u'id_str': u'78607265'}, {u'indices': [93, 101], u'screen_name': u'anoizet', u'id': 312960789, u'name': u'Aline Noizet', u'id_str': u'312960789'}, {u'indices': [102, 113], u'screen_name': u'janedwelly', u'id': 108297471, u'name': u'Jane Dwelly', u'id_str': u'108297471'}, {u'indices': [114, 130], u'screen_name': u'Barry_HealthTec', u'id': 44844855, u'name': u'Barry Shrier', u'id_str': u'44844855'}, {u'indices': [131, 144], u'screen_name': u'HealthEugene', u'id': 16139549, u'name': u'Eugene Borukhovich', u'id_str': u'16139549'}, {u'indices': [145, 158], u'screen_name': u'chrispointon', u'id': 28578944, u'name': u'Chris Pointon', u'id_str': u'28578944'}, {u'indices': [159, 170], u'screen_name': u'Anniecoops', u'id': 20327119, u'name': u'Anne Cooper RN FQNI', u'id_str': u'20327119'}, {u'indices': [171, 181], u'screen_name': u'MarkDuman', u'id': 612922732, u'name': u'Mark Duman', u'id_str': u'612922732'}, {u'indices': [182, 195], u'screen_name': u'IndraJoshi10', u'id': 4876080779L, u'name': u'Indra Joshi', u'id_str': u'4876080779'}, {u'indices': [196, 212], u'screen_name': u'ChampionsLeague', u'id': 627673190, u'name': u'UEFA Champions League', u'id_str': u'627673190'}, {u'indices': [228, 232], u'screen_name': u'LFC', u'id': 19583545, u'name': u'Liverpool FC', u'id_str': u'19583545'}, {u'indices': [236, 247], u'screen_name': u'realmadrid', u'id': 14872237, u'name': u'Real Madrid C.F. \\u26bd\\ufe0f', u'id_str': u'14872237'}], u'symbols': [], u'hashtags': [{u'indices': [327, 337], u'text': u'PinkSocks'}], u'urls': []}, u'full_text': u'@boltyboy @Health2eu @bluetopaz @himsseurope @ChampionsLeague @lucienengelen @pascal_lardier @anoizet @janedwelly @Barry_HealthTec @HealthEugene @chrispointon @Anniecoops @MarkDuman @IndraJoshi10 @ChampionsLeague Final features @LFC vs @realmadrid! Who will locals in Barcelona support? \\r\\r\\r\\n\\r\\r\\r\\nAny hotel tips? \\r\\r\\r\\n\\r\\r\\r\\nWill be bringing my #PinkSocks!!'}   \n",
       "18  {u'display_text_range': [211, 273], u'entities': {u'user_mentions': [{u'indices': [0, 8], u'screen_name': u'S3bster', u'id': 37780157, u'name': u'Sebastian Yuen \\u30c4', u'id_str': u'37780157'}, {u'indices': [9, 18], u'screen_name': u'boltyboy', u'id': 1248081, u'name': u'Matthew Holt', u'id_str': u'1248081'}, {u'indices': [19, 29], u'screen_name': u'bluetopaz', u'id': 1073381, u'name': u'Indu Subaiya', u'id_str': u'1073381'}, {u'indices': [30, 42], u'screen_name': u'himsseurope', u'id': 132204567, u'name': u'HIMSS Europe', u'id_str': u'132204567'}, {u'indices': [43, 59], u'screen_name': u'ChampionsLeague', u'id': 627673190, u'name': u'UEFA Champions League', u'id_str': u'627673190'}, {u'indices': [60, 74], u'screen_name': u'lucienengelen', u'id': 15123270, u'name': u'Lucien Engelen', u'id_str': u'15123270'}, {u'indices': [75, 90], u'screen_name': u'pascal_lardier', u'id': 78607265, u'name': u'Pascal Lardier', u'id_str': u'78607265'}, {u'indices': [91, 99], u'screen_name': u'anoizet', u'id': 312960789, u'name': u'Aline Noizet', u'id_str': u'312960789'}, {u'indices': [100, 111], u'screen_name': u'janedwelly', u'id': 108297471, u'name': u'Jane Dwelly', u'id_str': u'108297471'}, {u'indices': [112, 128], u'screen_name': u'Barry_HealthTec', u'id': 44844855, u'name': u'Barry Shrier', u'id_str': u'44844855'}, {u'indices': [129, 142], u'screen_name': u'HealthEugene', u'id': 16139549, u'name': u'Eugene Borukhovich', u'id_str': u'16139549'}, {u'indices': [143, 156], u'screen_name': u'chrispointon', u'id': 28578944, u'name': u'Chris Pointon', u'id_str': u'28578944'}, {u'indices': [157, 168], u'screen_name': u'Anniecoops', u'id': 20327119, u'name': u'Anne Cooper RN FQNI', u'id_str': u'20327119'}, {u'indices': [169, 179], u'screen_name': u'MarkDuman', u'id': 612922732, u'name': u'Mark Duman', u'id_str': u'612922732'}, {u'indices': [180, 193], u'screen_name': u'IndraJoshi10', u'id': 4876080779L, u'name': u'Indra Joshi', u'id_str': u'4876080779'}, {u'indices': [194, 198], u'screen_name': u'LFC', u'id': 19583545, u'name': u'Liverpool FC', u'id_str': u'19583545'}, {u'indices': [199, 210], u'screen_name': u'realmadrid', u'id': 14872237, u'name': u'Real Madrid C.F. \\u26bd\\ufe0f', u'id_str': u'14872237'}], u'symbols': [], u'hashtags': [], u'urls': []}, u'full_text': u'@S3bster @boltyboy @bluetopaz @himsseurope @ChampionsLeague @lucienengelen @pascal_lardier @anoizet @janedwelly @Barry_HealthTec @HealthEugene @chrispointon @Anniecoops @MarkDuman @IndraJoshi10 @LFC @realmadrid I would try an airbnb :) most hotels are running low on rooms!'}                                                                                                                                                                                                                                                                                              \n",
       "19  {u'display_text_range': [213, 242], u'entities': {u'user_mentions': [{u'indices': [0, 10], u'screen_name': u'Health2eu', u'id': 221140787, u'name': u'Health 2.0 Europe', u'id_str': u'221140787'}, {u'indices': [11, 20], u'screen_name': u'boltyboy', u'id': 1248081, u'name': u'Matthew Holt', u'id_str': u'1248081'}, {u'indices': [21, 31], u'screen_name': u'bluetopaz', u'id': 1073381, u'name': u'Indu Subaiya', u'id_str': u'1073381'}, {u'indices': [32, 44], u'screen_name': u'himsseurope', u'id': 132204567, u'name': u'HIMSS Europe', u'id_str': u'132204567'}, {u'indices': [45, 61], u'screen_name': u'ChampionsLeague', u'id': 627673190, u'name': u'UEFA Champions League', u'id_str': u'627673190'}, {u'indices': [62, 76], u'screen_name': u'lucienengelen', u'id': 15123270, u'name': u'Lucien Engelen', u'id_str': u'15123270'}, {u'indices': [77, 92], u'screen_name': u'pascal_lardier', u'id': 78607265, u'name': u'Pascal Lardier', u'id_str': u'78607265'}, {u'indices': [93, 101], u'screen_name': u'anoizet', u'id': 312960789, u'name': u'Aline Noizet', u'id_str': u'312960789'}, {u'indices': [102, 113], u'screen_name': u'janedwelly', u'id': 108297471, u'name': u'Jane Dwelly', u'id_str': u'108297471'}, {u'indices': [114, 130], u'screen_name': u'Barry_HealthTec', u'id': 44844855, u'name': u'Barry Shrier', u'id_str': u'44844855'}, {u'indices': [131, 144], u'screen_name': u'HealthEugene', u'id': 16139549, u'name': u'Eugene Borukhovich', u'id_str': u'16139549'}, {u'indices': [145, 158], u'screen_name': u'chrispointon', u'id': 28578944, u'name': u'Chris Pointon', u'id_str': u'28578944'}, {u'indices': [159, 170], u'screen_name': u'Anniecoops', u'id': 20327119, u'name': u'Anne Cooper RN FQNI', u'id_str': u'20327119'}, {u'indices': [171, 181], u'screen_name': u'MarkDuman', u'id': 612922732, u'name': u'Mark Duman', u'id_str': u'612922732'}, {u'indices': [182, 195], u'screen_name': u'IndraJoshi10', u'id': 4876080779L, u'name': u'Indra Joshi', u'id_str': u'4876080779'}, {u'indices': [196, 200], u'screen_name': u'LFC', u'id': 19583545, u'name': u'Liverpool FC', u'id_str': u'19583545'}, {u'indices': [201, 212], u'screen_name': u'realmadrid', u'id': 14872237, u'name': u'Real Madrid C.F. \\u26bd\\ufe0f', u'id_str': u'14872237'}], u'symbols': [], u'hashtags': [], u'urls': []}, u'full_text': u'@Health2eu @boltyboy @bluetopaz @himsseurope @ChampionsLeague @lucienengelen @pascal_lardier @anoizet @janedwelly @Barry_HealthTec @HealthEugene @chrispointon @Anniecoops @MarkDuman @IndraJoshi10 @LFC @realmadrid Great suggestion!  Thank you!'}                                                                                                                                                                                                                                                                                                                          \n",
       "\n",
       "    ideo_score clean_text  \n",
       "10 NaN                     \n",
       "13 NaN                     \n",
       "16 NaN                     \n",
       "18 NaN                     \n",
       "19 NaN                     "
      ]
     },
     "execution_count": 14,
     "metadata": {},
     "output_type": "execute_result"
    }
   ],
   "source": [
    "clean_madrid['clean_text'].replace('', np.nan, inplace=True)\n",
    "print(clean_madrid['clean_text'].isna().sum())\n",
    "\n",
    "df_madrid.iloc[clean_madrid[clean_madrid.isna().any(axis=1)].index,:].head()"
   ]
  },
  {
   "cell_type": "code",
   "execution_count": 15,
   "metadata": {},
   "outputs": [],
   "source": [
    "clean_madrid.dropna(inplace=True)\n",
    "clean_madrid.reset_index(drop=True,inplace=True)"
   ]
  },
  {
   "cell_type": "code",
   "execution_count": 16,
   "metadata": {
    "scrolled": true
   },
   "outputs": [
    {
     "name": "stdout",
     "output_type": "stream",
     "text": [
      "<class 'pandas.core.frame.DataFrame'>\n",
      "RangeIndex: 31233 entries, 0 to 31232\n",
      "Data columns (total 8 columns):\n",
      "created_at     31233 non-null object\n",
      "name           31233 non-null object\n",
      "screen_name    31233 non-null object\n",
      "id             31233 non-null float64\n",
      "friends        31233 non-null int64\n",
      "followers      31233 non-null int64\n",
      "listed         31233 non-null int64\n",
      "clean_text     31233 non-null object\n",
      "dtypes: float64(1), int64(3), object(4)\n",
      "memory usage: 1.9+ MB\n",
      "None\n"
     ]
    },
    {
     "data": {
      "text/html": [
       "<div>\n",
       "<style scoped>\n",
       "    .dataframe tbody tr th:only-of-type {\n",
       "        vertical-align: middle;\n",
       "    }\n",
       "\n",
       "    .dataframe tbody tr th {\n",
       "        vertical-align: top;\n",
       "    }\n",
       "\n",
       "    .dataframe thead th {\n",
       "        text-align: right;\n",
       "    }\n",
       "</style>\n",
       "<table border=\"1\" class=\"dataframe\">\n",
       "  <thead>\n",
       "    <tr style=\"text-align: right;\">\n",
       "      <th></th>\n",
       "      <th>created_at</th>\n",
       "      <th>name</th>\n",
       "      <th>screen_name</th>\n",
       "      <th>id</th>\n",
       "      <th>friends</th>\n",
       "      <th>followers</th>\n",
       "      <th>listed</th>\n",
       "      <th>clean_text</th>\n",
       "    </tr>\n",
       "  </thead>\n",
       "  <tbody>\n",
       "    <tr>\n",
       "      <th>0</th>\n",
       "      <td>Mon May 21 01:44:58 +0000 2018</td>\n",
       "      <td>Binyamin Alsagoff</td>\n",
       "      <td>benalsagoff676</td>\n",
       "      <td>3.259756e+08</td>\n",
       "      <td>211</td>\n",
       "      <td>221</td>\n",
       "      <td>3</td>\n",
       "      <td>countdown final kyiv russia vs</td>\n",
       "    </tr>\n",
       "    <tr>\n",
       "      <th>1</th>\n",
       "      <td>Mon May 21 04:01:00 +0000 2018</td>\n",
       "      <td>LaLiga</td>\n",
       "      <td>LaLiga</td>\n",
       "      <td>4.233845e+08</td>\n",
       "      <td>828</td>\n",
       "      <td>3632180</td>\n",
       "      <td>5536</td>\n",
       "      <td>llega los goles con el</td>\n",
       "    </tr>\n",
       "    <tr>\n",
       "      <th>2</th>\n",
       "      <td>Mon May 21 04:08:40 +0000 2018</td>\n",
       "      <td>Vida Social Bogotá</td>\n",
       "      <td>SocialEnBogota</td>\n",
       "      <td>2.611749e+09</td>\n",
       "      <td>14598</td>\n",
       "      <td>34695</td>\n",
       "      <td>290</td>\n",
       "      <td>llega los goles con el</td>\n",
       "    </tr>\n",
       "    <tr>\n",
       "      <th>3</th>\n",
       "      <td>Mon May 21 04:38:32 +0000 2018</td>\n",
       "      <td>TD.</td>\n",
       "      <td>iamthetd</td>\n",
       "      <td>1.066035e+09</td>\n",
       "      <td>557</td>\n",
       "      <td>94</td>\n",
       "      <td>6</td>\n",
       "      <td>well ended seasons campaign way started it shitty hope zidane</td>\n",
       "    </tr>\n",
       "    <tr>\n",
       "      <th>4</th>\n",
       "      <td>Mon May 21 04:52:52 +0000 2018</td>\n",
       "      <td>bigtime or bigmike</td>\n",
       "      <td>Michaelgreatho2</td>\n",
       "      <td>2.440701e+09</td>\n",
       "      <td>1918</td>\n",
       "      <td>742</td>\n",
       "      <td>4</td>\n",
       "      <td>yall late</td>\n",
       "    </tr>\n",
       "  </tbody>\n",
       "</table>\n",
       "</div>"
      ],
      "text/plain": [
       "                       created_at                name      screen_name  \\\n",
       "0  Mon May 21 01:44:58 +0000 2018  Binyamin Alsagoff   benalsagoff676    \n",
       "1  Mon May 21 04:01:00 +0000 2018  LaLiga              LaLiga            \n",
       "2  Mon May 21 04:08:40 +0000 2018  Vida Social Bogotá  SocialEnBogota    \n",
       "3  Mon May 21 04:38:32 +0000 2018  TD.                 iamthetd          \n",
       "4  Mon May 21 04:52:52 +0000 2018  bigtime or bigmike  Michaelgreatho2   \n",
       "\n",
       "             id  friends  followers  listed  \\\n",
       "0  3.259756e+08  211      221        3        \n",
       "1  4.233845e+08  828      3632180    5536     \n",
       "2  2.611749e+09  14598    34695      290      \n",
       "3  1.066035e+09  557      94         6        \n",
       "4  2.440701e+09  1918     742        4        \n",
       "\n",
       "                                                      clean_text  \n",
       "0  countdown final kyiv russia vs                                 \n",
       "1  llega los goles con el                                         \n",
       "2  llega los goles con el                                         \n",
       "3  well ended seasons campaign way started it shitty hope zidane  \n",
       "4  yall late                                                      "
      ]
     },
     "execution_count": 16,
     "metadata": {},
     "output_type": "execute_result"
    }
   ],
   "source": [
    "print(clean_madrid.info())\n",
    "clean_madrid.head()"
   ]
  },
  {
   "cell_type": "markdown",
   "metadata": {},
   "source": [
    "As mentioned ealier, the data was collected over four weeks since from 21 May and end at 16 June 2018 at pre-, mid- and post-event. Now I will split the texts according to the date. It can be found at the new column 'period': \n",
    "\n",
    "- 1: pre-event, 2018-05-21 - 2018-05-25\n",
    "- 2: mid-event, 2018-05-26\n",
    "- 3: post-event (week one), 2018-05-27 - 2018-06-03\n",
    "- 4: post-event (week two), 2018-06-04 - 2018-06-10\n",
    "- 5: post-event (week three), 2018-06-11 - 2018-06-16"
   ]
  },
  {
   "cell_type": "markdown",
   "metadata": {},
   "source": [
    "Change the datetime format and keep the date part only (e.g., change 'Mon May 21 01:44:58 +0000 2018' to '2018-05-21')"
   ]
  },
  {
   "cell_type": "code",
   "execution_count": 17,
   "metadata": {},
   "outputs": [],
   "source": [
    "clean_madrid['created_at'] = pd.to_datetime(clean_madrid.created_at).dt.date\n",
    "clean_madrid['created_at'] = pd.to_datetime(clean_madrid.created_at, errors='coerce')"
   ]
  },
  {
   "cell_type": "markdown",
   "metadata": {},
   "source": [
    "Generate a new column named 'period' and set the column values based on dates as descripted above. Save the cleaning texts with five-periods to a new dataset 'clean_madrid.csv'"
   ]
  },
  {
   "cell_type": "code",
   "execution_count": 18,
   "metadata": {},
   "outputs": [
    {
     "data": {
      "text/html": [
       "<div>\n",
       "<style scoped>\n",
       "    .dataframe tbody tr th:only-of-type {\n",
       "        vertical-align: middle;\n",
       "    }\n",
       "\n",
       "    .dataframe tbody tr th {\n",
       "        vertical-align: top;\n",
       "    }\n",
       "\n",
       "    .dataframe thead th {\n",
       "        text-align: right;\n",
       "    }\n",
       "</style>\n",
       "<table border=\"1\" class=\"dataframe\">\n",
       "  <thead>\n",
       "    <tr style=\"text-align: right;\">\n",
       "      <th></th>\n",
       "      <th>created_at</th>\n",
       "      <th>name</th>\n",
       "      <th>screen_name</th>\n",
       "      <th>id</th>\n",
       "      <th>friends</th>\n",
       "      <th>followers</th>\n",
       "      <th>listed</th>\n",
       "      <th>clean_text</th>\n",
       "      <th>period</th>\n",
       "    </tr>\n",
       "  </thead>\n",
       "  <tbody>\n",
       "    <tr>\n",
       "      <th>0</th>\n",
       "      <td>2018-05-21</td>\n",
       "      <td>Binyamin Alsagoff</td>\n",
       "      <td>benalsagoff676</td>\n",
       "      <td>3.259756e+08</td>\n",
       "      <td>211</td>\n",
       "      <td>221</td>\n",
       "      <td>3</td>\n",
       "      <td>countdown final kyiv russia vs</td>\n",
       "      <td>1</td>\n",
       "    </tr>\n",
       "    <tr>\n",
       "      <th>1</th>\n",
       "      <td>2018-05-21</td>\n",
       "      <td>LaLiga</td>\n",
       "      <td>LaLiga</td>\n",
       "      <td>4.233845e+08</td>\n",
       "      <td>828</td>\n",
       "      <td>3632180</td>\n",
       "      <td>5536</td>\n",
       "      <td>llega los goles con el</td>\n",
       "      <td>1</td>\n",
       "    </tr>\n",
       "    <tr>\n",
       "      <th>2</th>\n",
       "      <td>2018-05-21</td>\n",
       "      <td>Vida Social Bogotá</td>\n",
       "      <td>SocialEnBogota</td>\n",
       "      <td>2.611749e+09</td>\n",
       "      <td>14598</td>\n",
       "      <td>34695</td>\n",
       "      <td>290</td>\n",
       "      <td>llega los goles con el</td>\n",
       "      <td>1</td>\n",
       "    </tr>\n",
       "    <tr>\n",
       "      <th>3</th>\n",
       "      <td>2018-05-21</td>\n",
       "      <td>TD.</td>\n",
       "      <td>iamthetd</td>\n",
       "      <td>1.066035e+09</td>\n",
       "      <td>557</td>\n",
       "      <td>94</td>\n",
       "      <td>6</td>\n",
       "      <td>well ended seasons campaign way started it shitty hope zidane</td>\n",
       "      <td>1</td>\n",
       "    </tr>\n",
       "    <tr>\n",
       "      <th>4</th>\n",
       "      <td>2018-05-21</td>\n",
       "      <td>bigtime or bigmike</td>\n",
       "      <td>Michaelgreatho2</td>\n",
       "      <td>2.440701e+09</td>\n",
       "      <td>1918</td>\n",
       "      <td>742</td>\n",
       "      <td>4</td>\n",
       "      <td>yall late</td>\n",
       "      <td>1</td>\n",
       "    </tr>\n",
       "  </tbody>\n",
       "</table>\n",
       "</div>"
      ],
      "text/plain": [
       "  created_at                name      screen_name            id  friends  \\\n",
       "0 2018-05-21  Binyamin Alsagoff   benalsagoff676   3.259756e+08  211       \n",
       "1 2018-05-21  LaLiga              LaLiga           4.233845e+08  828       \n",
       "2 2018-05-21  Vida Social Bogotá  SocialEnBogota   2.611749e+09  14598     \n",
       "3 2018-05-21  TD.                 iamthetd         1.066035e+09  557       \n",
       "4 2018-05-21  bigtime or bigmike  Michaelgreatho2  2.440701e+09  1918      \n",
       "\n",
       "   followers  listed  \\\n",
       "0  221        3        \n",
       "1  3632180    5536     \n",
       "2  34695      290      \n",
       "3  94         6        \n",
       "4  742        4        \n",
       "\n",
       "                                                      clean_text  period  \n",
       "0  countdown final kyiv russia vs                                 1       \n",
       "1  llega los goles con el                                         1       \n",
       "2  llega los goles con el                                         1       \n",
       "3  well ended seasons campaign way started it shitty hope zidane  1       \n",
       "4  yall late                                                      1       "
      ]
     },
     "execution_count": 18,
     "metadata": {},
     "output_type": "execute_result"
    }
   ],
   "source": [
    "clean_madrid['period'] = ' '\n",
    " \n",
    "index1 = clean_madrid.loc[(clean_madrid['created_at'] >= '2018-05-21') & (clean_madrid['created_at'] <= '2018-05-25')].index\n",
    "index2 = clean_madrid.loc[clean_madrid['created_at'] == '2018-05-26'].index\n",
    "index3 = clean_madrid.loc[(clean_madrid['created_at'] >= '2018-05-27') & (clean_madrid['created_at'] <= '2018-06-03')].index\n",
    "index4 = clean_madrid.loc[(clean_madrid['created_at'] >= '2018-06-04') & (clean_madrid['created_at'] <= '2018-06-10')].index\n",
    "index5 = clean_madrid.loc[(clean_madrid['created_at'] >= '2018-06-11') & (clean_madrid['created_at'] <= '2018-06-16')].index\n",
    " \n",
    "clean_madrid.loc[index1, 'period'] = 1\n",
    "clean_madrid.loc[index2, 'period'] = 2\n",
    "clean_madrid.loc[index3, 'period'] = 3\n",
    "clean_madrid.loc[index4, 'period'] = 4\n",
    "clean_madrid.loc[index5, 'period'] = 5\n",
    "print(clean_madrid.head())\n",
    "\n",
    "clean_madrid.to_csv('clean_madrid.csv')"
   ]
  }
 ],
 "metadata": {
  "kernelspec": {
   "display_name": "Python 2",
   "language": "python",
   "name": "python2"
  },
  "language_info": {
   "codemirror_mode": {
    "name": "ipython",
    "version": 2
   },
   "file_extension": ".py",
   "mimetype": "text/x-python",
   "name": "python",
   "nbconvert_exporter": "python",
   "pygments_lexer": "ipython2",
   "version": "2.7.14"
  }
 },
 "nbformat": 4,
 "nbformat_minor": 1
}
